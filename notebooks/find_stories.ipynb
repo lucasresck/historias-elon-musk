{
 "cells": [
  {
   "cell_type": "code",
   "execution_count": null,
   "metadata": {},
   "outputs": [],
   "source": [
    "from youtube_transcript_api import YouTubeTranscriptApi"
   ]
  },
  {
   "cell_type": "code",
   "execution_count": null,
   "metadata": {},
   "outputs": [],
   "source": [
    "video_id = \"Xh6uK4m-4lc\""
   ]
  },
  {
   "cell_type": "code",
   "execution_count": null,
   "metadata": {},
   "outputs": [],
   "source": [
    "transcriptions = YouTubeTranscriptApi.get_transcript(video_id, languages=['pt'])\n",
    "transcriptions"
   ]
  },
  {
   "cell_type": "code",
   "execution_count": null,
   "metadata": {},
   "outputs": [],
   "source": [
    "for i, transcription in enumerate(transcriptions):\n",
    "    if \"história\" in transcription[\"text\"].lower():\n",
    "        for j in range(max([i - 3, 0]), min([i + 3, len(transcriptions)])):\n",
    "            if j == i:\n",
    "                print(\">> \", end=\"\")\n",
    "            print(transcriptions[j][\"text\"])\n",
    "        print()\n",
    "        print(f\"Time: {int(transcription['start']//60)}:{int(transcription['start']%60)}\")\n",
    "        print(f\"Duration: {int(transcription['duration'])} seconds\")\n",
    "        print(f\"Link: https://www.youtube.com/watch?v={video_id}&t={int(transcription['start'])}\")\n",
    "        print()\n",
    "        print()"
   ]
  }
 ],
 "metadata": {
  "kernelspec": {
   "display_name": "Python 3.10.4 ('historias-elon-musk')",
   "language": "python",
   "name": "python3"
  },
  "language_info": {
   "codemirror_mode": {
    "name": "ipython",
    "version": 3
   },
   "file_extension": ".py",
   "mimetype": "text/x-python",
   "name": "python",
   "nbconvert_exporter": "python",
   "pygments_lexer": "ipython3",
   "version": "3.10.4"
  },
  "orig_nbformat": 4,
  "vscode": {
   "interpreter": {
    "hash": "2a585e869ea5d5d23577b986b39a688dad934687cb85ebdaab0e67c3b6c0f25f"
   }
  }
 },
 "nbformat": 4,
 "nbformat_minor": 2
}
